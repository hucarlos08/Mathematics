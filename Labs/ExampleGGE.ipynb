{
  "nbformat": 4,
  "nbformat_minor": 0,
  "metadata": {
    "colab": {
      "provenance": [],
      "authorship_tag": "ABX9TyP9PvZF0EJXbYd1uvv457r2",
      "include_colab_link": true
    },
    "kernelspec": {
      "name": "python3",
      "display_name": "Python 3"
    },
    "language_info": {
      "name": "python"
    }
  },
  "cells": [
    {
      "cell_type": "markdown",
      "metadata": {
        "id": "view-in-github",
        "colab_type": "text"
      },
      "source": [
        "<a href=\"https://colab.research.google.com/github/hucarlos08/Mathematics/blob/main/Labs/ExampleGGE.ipynb\" target=\"_parent\"><img src=\"https://colab.research.google.com/assets/colab-badge.svg\" alt=\"Open In Colab\"/></a>"
      ]
    },
    {
      "cell_type": "markdown",
      "source": [
        "# Sentinel-2 Satellite Image Analysis with Google Earth Engine\n",
        "\n",
        "This notebook demonstrates how to access, visualize and analyze Sentinel-2\n",
        "satellite imagery using Google Earth Engine (GEE) and Python. Unlike traditional\n",
        "approaches that require downloading satellite data locally, GEE allows us to\n",
        "process satellite imagery in the cloud.\n",
        "\n",
        "The notebook covers:\n",
        "1. Basic setup and authentication\n",
        "2. Loading and visualizing Sentinel-2 imagery\n",
        "3. Understanding and visualizing individual bands\n",
        "4. Creating different band compositions\n",
        "5. Calculating spectral indices"
      ],
      "metadata": {
        "id": "P9KAHGM2nwnX"
      }
    },
    {
      "cell_type": "code",
      "execution_count": null,
      "metadata": {
        "id": "xV-f1UbOVNcx"
      },
      "outputs": [],
      "source": [
        "# Required imports\n",
        "import ee\n",
        "import geemap\n",
        "import numpy as np\n",
        "import matplotlib.pyplot as plt\n",
        "from datetime import datetime, timedelta\n",
        "\n",
        "# Initialize Earth Engine with your project\n",
        "project_id = 'ee-hcarlos-sentinel2'  # Replace with your GEE project ID\n",
        "\n",
        "try:\n",
        "    ee.Initialize(project=project_id)\n",
        "except Exception as e:\n",
        "    ee.Authenticate()\n",
        "    ee.Initialize(project=project_id)\n"
      ]
    },
    {
      "cell_type": "markdown",
      "source": [
        "## Sentinel-2 Band Information\n",
        "\n",
        "Sentinel-2 provides 13 spectral bands:\n",
        "- 4 bands at 10m: Blue (B2), Green (B3), Red (B4), NIR (B8)\n",
        "- 6 bands at 20m: Red Edge (B5, B6, B7, B8A), SWIR (B11, B12)\n",
        "- 3 bands at 60m: Coastal aerosol (B1), Water vapor (B9), SWIR-Cirrus (B10)\n"
      ],
      "metadata": {
        "id": "8lwWj_PFoKQ2"
      }
    },
    {
      "cell_type": "code",
      "source": [
        "import pandas as pd\n",
        "\n",
        "\n",
        "SENTINEL2_BANDS_INFO = {\n",
        "    'B1': {'description': 'Coastal aerosol', 'resolution': 60, 'wavelength': '443nm'},\n",
        "    'B2': {'description': 'Blue', 'resolution': 10, 'wavelength': '490nm'},\n",
        "    'B3': {'description': 'Green', 'resolution': 10, 'wavelength': '560nm'},\n",
        "    'B4': {'description': 'Red', 'resolution': 10, 'wavelength': '665nm'},\n",
        "    'B5': {'description': 'Red Edge 1', 'resolution': 20, 'wavelength': '705nm'},\n",
        "    'B6': {'description': 'Red Edge 2', 'resolution': 20, 'wavelength': '740nm'},\n",
        "    'B7': {'description': 'Red Edge 3', 'resolution': 20, 'wavelength': '783nm'},\n",
        "    'B8': {'description': 'NIR', 'resolution': 10, 'wavelength': '842nm'},\n",
        "    'B8A': {'description': 'Red Edge 4', 'resolution': 20, 'wavelength': '865nm'},\n",
        "    'B9': {'description': 'Water vapor', 'resolution': 60, 'wavelength': '940nm'},\n",
        "    'B11': {'description': 'SWIR 1', 'resolution': 20, 'wavelength': '1610nm'},\n",
        "    'B12': {'description': 'SWIR 2', 'resolution': 20, 'wavelength': '2190nm'}\n",
        "}\n",
        "\n",
        "sentinel2_df = pd.DataFrame.from_dict(SENTINEL2_BANDS_INFO, orient='index')\n",
        "sentinel2_df"
      ],
      "metadata": {
        "id": "kGnkuUjooGJU"
      },
      "execution_count": null,
      "outputs": []
    },
    {
      "cell_type": "markdown",
      "source": [
        " ## Helper Functions"
      ],
      "metadata": {
        "id": "o7uXv-Pnp6fw"
      }
    },
    {
      "cell_type": "code",
      "source": [
        "def get_sentinel2_collection(start_date, end_date, roi):\n",
        "    \"\"\"\n",
        "    Retrieves Sentinel-2 imagery for a specific time period and region.\n",
        "\n",
        "    Parameters:\n",
        "    -----------\n",
        "    start_date: str\n",
        "        Start date in 'YYYY-MM-DD' format\n",
        "    end_date: str\n",
        "        End date in 'YYYY-MM-DD' format\n",
        "    roi: ee.Geometry\n",
        "        Region of interest\n",
        "\n",
        "    Returns:\n",
        "    --------\n",
        "    ee.ImageCollection\n",
        "        Filtered collection of Sentinel-2 images\n",
        "    \"\"\"\n",
        "    return (ee.ImageCollection('COPERNICUS/S2_SR')\n",
        "        .filterDate(start_date, end_date)\n",
        "        .filterBounds(roi)\n",
        "        .filter(ee.Filter.lt('CLOUDY_PIXEL_PERCENTAGE', 20)))\n",
        "\n",
        "def visualize_band(image, band, layer_name=None):\n",
        "    \"\"\"\n",
        "    Visualizes a single Sentinel-2 band on the map.\n",
        "\n",
        "    Parameters:\n",
        "    -----------\n",
        "    image: ee.Image\n",
        "        Sentinel-2 image\n",
        "    band: str\n",
        "        Band name (e.g., 'B4')\n",
        "    layer_name: str, optional\n",
        "        Custom name for the layer\n",
        "    \"\"\"\n",
        "    if layer_name is None:\n",
        "        layer_name = f\"Band {band} - {SENTINEL2_BANDS_INFO[band]['description']}\"\n",
        "\n",
        "    vis_params = {\n",
        "        'min': 0,\n",
        "        'max': 3000,\n",
        "        'bands': [band],\n",
        "        'palette': ['black', 'white']\n",
        "    }\n",
        "\n",
        "    Map.addLayer(image, vis_params, layer_name)"
      ],
      "metadata": {
        "id": "hZ8RJVH6pu_T"
      },
      "execution_count": null,
      "outputs": []
    },
    {
      "cell_type": "markdown",
      "source": [
        "## Create Base Map\n"
      ],
      "metadata": {
        "id": "HeBlPhiTqSYu"
      }
    },
    {
      "cell_type": "code",
      "source": [
        "Map = geemap.Map()\n",
        "\n",
        "# Define region of interest (example: Mexico City)\n",
        "roi = ee.Geometry.Point([-99.1332, 19.4326]).buffer(10000)"
      ],
      "metadata": {
        "id": "0PzEV5tjpvbr"
      },
      "execution_count": null,
      "outputs": []
    },
    {
      "cell_type": "markdown",
      "source": [
        " ## Load and Display Sentinel-2 Imagery"
      ],
      "metadata": {
        "id": "nB8IVPIkq5Ic"
      }
    },
    {
      "cell_type": "code",
      "source": [
        "# Define time period\n",
        "start_date = '2024-01-01'\n",
        "end_date = '2024-02-01'\n",
        "\n",
        "# Get image collection and select first image\n",
        "collection = get_sentinel2_collection(start_date, end_date, roi)\n",
        "image = collection.first()\n",
        "\n",
        "# Center map on our region of interest\n",
        "Map.centerObject(roi, 11)"
      ],
      "metadata": {
        "id": "vWbEx-pfq6rb"
      },
      "execution_count": null,
      "outputs": []
    },
    {
      "cell_type": "markdown",
      "source": [
        "## Visualization Examples"
      ],
      "metadata": {
        "id": "zK-f399krJ7d"
      }
    },
    {
      "cell_type": "code",
      "source": [
        "# True Color Composite (RGB)\n",
        "vis_params_rgb = {\n",
        "    'min': 0,\n",
        "    'max': 3000,\n",
        "    'bands': ['B4', 'B3', 'B2']\n",
        "}\n",
        "Map.addLayer(image, vis_params_rgb, 'RGB Natural Color')\n",
        "\n",
        "# False Color Infrared (NIR, Red, Green)\n",
        "vis_params_false_color = {\n",
        "    'min': 0,\n",
        "    'max': 3000,\n",
        "    'bands': ['B8', 'B4', 'B3']\n",
        "}\n",
        "Map.addLayer(image, vis_params_false_color, 'False Color (NIR)')\n",
        "\n",
        "# SWIR Composite\n",
        "vis_params_swir = {\n",
        "    'min': 0,\n",
        "    'max': 3000,\n",
        "    'bands': ['B12', 'B8A', 'B4']\n",
        "}\n",
        "Map.addLayer(image, vis_params_swir, 'SWIR Composite')\n",
        "\n",
        "# Visualize all individual bands\n",
        "for band in SENTINEL2_BANDS_INFO.keys():\n",
        "    visualize_band(image, band)\n",
        "\n",
        "# Display the map\n",
        "Map"
      ],
      "metadata": {
        "id": "NChF6xrnrNfY"
      },
      "execution_count": null,
      "outputs": []
    },
    {
      "cell_type": "markdown",
      "source": [
        "## Spectral Indices\n",
        "\n",
        "Spectral indices are combinations of surface reflectance at two or more\n",
        "wavelengths that indicate relative abundance of features of interest.\n",
        "\n",
        "Common indices include:\n",
        "\n",
        "1. NDVI (Normalized Difference Vegetation Index):\n",
        "   $NDVI = \\frac{NIR - Red}{NIR + Red}$\n",
        "\n",
        "2. SAVI (Soil Adjusted Vegetation Index):\n",
        "   $SAVI = \\frac{NIR - Red}{NIR + Red + L} \\times (1 + L)$\n",
        "   where L is a soil brightness correction factor\n",
        "\n",
        "3. NDMI (Normalized Difference Moisture Index):\n",
        "   $NDMI = \\frac{NIR - SWIR1}{NIR + SWIR1}$\n",
        "\n",
        "4. MNDWI (Modified Normalized Difference Water Index):\n",
        "   $MNDWI = \\frac{Green - SWIR}{Green + SWIR}$\n",
        "\n",
        "5. VARI (Visible Atmospherically Resistant Index):\n",
        "   $VARI = \\frac{Green - Red}{Green + Red - Blue}$"
      ],
      "metadata": {
        "id": "U7FisETRygsC"
      }
    },
    {
      "cell_type": "code",
      "source": [
        "def calculate_indices(image):\n",
        "    \"\"\"\n",
        "    Calculate various spectral indices from a Sentinel-2 image\n",
        "\n",
        "    Parameters:\n",
        "    -----------\n",
        "    image: ee.Image\n",
        "        Sentinel-2 image\n",
        "\n",
        "    Returns:\n",
        "    --------\n",
        "    ee.Image\n",
        "        Image with added index bands\n",
        "    \"\"\"\n",
        "    # NDVI\n",
        "    ndvi = image.normalizedDifference(['B8', 'B4']).rename('NDVI')\n",
        "\n",
        "    # SAVI (with L=0.5 for intermediate vegetation cover)\n",
        "    L = 0.5\n",
        "    savi = image.expression(\n",
        "        '((NIR - RED) / (NIR + RED + L)) * (1 + L)',\n",
        "        {\n",
        "            'NIR': image.select('B8'),\n",
        "            'RED': image.select('B4'),\n",
        "            'L': L\n",
        "        }\n",
        "    ).rename('SAVI')\n",
        "\n",
        "    # NDMI\n",
        "    ndmi = image.normalizedDifference(['B8', 'B11']).rename('NDMI')\n",
        "\n",
        "    # MNDWI\n",
        "    mndwi = image.normalizedDifference(['B3', 'B11']).rename('MNDWI')\n",
        "\n",
        "    # VARI\n",
        "    vari = image.expression(\n",
        "        '(GREEN - RED) / (GREEN + RED - BLUE)',\n",
        "        {\n",
        "            'GREEN': image.select('B3'),\n",
        "            'RED': image.select('B4'),\n",
        "            'BLUE': image.select('B2')\n",
        "        }\n",
        "    ).rename('VARI')\n",
        "\n",
        "    return image.addBands([ndvi, savi, ndmi, mndwi, vari])\n",
        "\n",
        "# Calculate all indices\n",
        "image_with_indices = calculate_indices(image)\n",
        "\n",
        "# Visualization parameters for indices\n",
        "INDEX_VIS_PARAMS = {\n",
        "    'NDVI': {\n",
        "        'min': -1,\n",
        "        'max': 1,\n",
        "        'palette': ['blue', 'white', 'green']\n",
        "    },\n",
        "    'SAVI': {\n",
        "        'min': -1,\n",
        "        'max': 1,\n",
        "        'palette': ['brown', 'yellow', 'green']\n",
        "    },\n",
        "    'NDMI': {\n",
        "        'min': -1,\n",
        "        'max': 1,\n",
        "        'palette': ['red', 'white', 'blue']\n",
        "    },\n",
        "    'MNDWI': {\n",
        "        'min': -1,\n",
        "        'max': 1,\n",
        "        'palette': ['brown', 'white', 'blue']\n",
        "    },\n",
        "    'VARI': {\n",
        "        'min': -1,\n",
        "        'max': 1,\n",
        "        'palette': ['red', 'white', 'green']\n",
        "    }\n",
        "}\n",
        "\n",
        "# Create a new map\n",
        "Map2 = geemap.Map()\n",
        "Map2.centerObject(roi, 11)\n",
        "\n",
        "# Add each index to the map\n",
        "for index_name, vis_params in INDEX_VIS_PARAMS.items():\n",
        "    Map2.addLayer(\n",
        "        image_with_indices.select(index_name),\n",
        "        vis_params,\n",
        "        f'{index_name} Index'\n",
        "    )\n",
        "\n",
        "Map2"
      ],
      "metadata": {
        "id": "trzacpjYwfte"
      },
      "execution_count": null,
      "outputs": []
    },
    {
      "cell_type": "markdown",
      "source": [
        " ## Additional Band Compositions\n",
        "\n",
        " Special band compositions can highlight specific features:\n",
        "\n",
        "1. Agriculture: NIR, SWIR1, Blue (B8, B11, B2)\n",
        "2. Atmospheric Penetration: SWIR2, SWIR1, NIR (B12, B11, B8)\n",
        "3. Vegetation Analysis: NIR, Red Edge, Red (B8, B5, B4)\n",
        "4. Healthy Vegetation: NIR, Red Edge 3, Red Edge 1 (B8, B7, B5)"
      ],
      "metadata": {
        "id": "VfUWqYB5puuo"
      }
    },
    {
      "cell_type": "code",
      "source": [
        "# Agriculture\n",
        "vis_params_agriculture = {\n",
        "    'bands': ['B8', 'B11', 'B2'],\n",
        "    'min': 0,\n",
        "    'max': 3000,\n",
        "    'gamma': 1.2\n",
        "}\n",
        "Map2.addLayer(image, vis_params_agriculture, 'Agriculture Composite')\n",
        "\n",
        "# Atmospheric Penetration\n",
        "vis_params_atmospheric = {\n",
        "    'bands': ['B12', 'B11', 'B8'],\n",
        "    'min': 0,\n",
        "    'max': 3000,\n",
        "    'gamma': 1.2\n",
        "}\n",
        "Map2.addLayer(image, vis_params_atmospheric, 'Atmospheric Penetration')\n",
        "\n",
        "# Vegetation Analysis\n",
        "vis_params_vegetation = {\n",
        "    'bands': ['B8', 'B5', 'B4'],\n",
        "    'min': 0,\n",
        "    'max': 3000\n",
        "}\n",
        "Map2.addLayer(image, vis_params_vegetation, 'Vegetation Analysis')\n",
        "\n",
        "# Healthy Vegetation\n",
        "vis_params_healthy_veg = {\n",
        "    'bands': ['B8', 'B7', 'B5'],\n",
        "    'min': 0,\n",
        "    'max': 3000\n",
        "}\n",
        "Map2.addLayer(image, vis_params_healthy_veg, 'Healthy Vegetation')\n"
      ],
      "metadata": {
        "id": "1R25Go6z5N0h"
      },
      "execution_count": null,
      "outputs": []
    }
  ]
}